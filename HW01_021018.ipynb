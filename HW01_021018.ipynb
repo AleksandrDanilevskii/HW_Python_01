{
 "cells": [
  {
   "cell_type": "code",
   "execution_count": null,
   "metadata": {},
   "outputs": [],
   "source": [
    "# -*- coding: utf-8 -*-"
   ]
  },
  {
   "cell_type": "markdown",
   "metadata": {},
   "source": [
    "# **HW-01**"
   ]
  },
  {
   "cell_type": "markdown",
   "metadata": {},
   "source": [
    "## Задание № 1\n",
    "\n",
    "Выведите словарь, содержащий элементы вида \n",
    "```\n",
    "x: \"x \\* x + 1 = y\",\n",
    "```\n",
    "где x - число от 40 до 89, дающее остаток 4 при делении на 5; y = x \\* x + 1"
   ]
  },
  {
   "cell_type": "code",
   "execution_count": null,
   "metadata": {
    "scrolled": true
   },
   "outputs": [],
   "source": [
    "str1 = r\"\\*\"\n",
    "dict1 = {x : str(x) + str1 + str(x) + ' + 1 = ' + str(x*x+1) for x in range(40,89)}\n",
    "print ( \"{\" + ',\\n '.join(\"'{key}': '{value}'\".format(key=key, value=value) for key, value in dict1.items()) + \"}\")"
   ]
  },
  {
   "cell_type": "markdown",
   "metadata": {},
   "source": [
    "<div style=\"clear:both;\"></div>\n",
    "<hr style=\"float:left;width:80%;border-top: 3px double #8c8b8b;\">\n",
    "<div style=\"clear:both;\"></div>"
   ]
  },
  {
   "cell_type": "markdown",
   "metadata": {},
   "source": [
    "## Задание № 2.0\n",
    "\n",
    "Напишите программу, которая высчиcляет количество мальчиков и девочек в школе.\n",
    "\n",
    "**Дано**: словарь, содержащий пары 'название класса' : (количество девочек, количество мальчиков)\n",
    "\n",
    "Пример:\n",
    "```python\n",
    "d = {'1a':(15,15),'1b':(10,18),'1c':(12,20),'1d':(0,32)}\n",
    "```\n"
   ]
  },
  {
   "cell_type": "code",
   "execution_count": null,
   "metadata": {},
   "outputs": [],
   "source": [
    "dict20 = {'1a':(15,15),'1b':(10,18),'1c':(12,20),'1d':(0,32)}"
   ]
  },
  {
   "cell_type": "code",
   "execution_count": null,
   "metadata": {},
   "outputs": [],
   "source": [
    "boys = 0\n",
    "girls = 0\n",
    "for value in dict20.values():\n",
    "    boys+=value[1]\n",
    "    girls+=value[0]\n",
    "print('Boys: ', boys)\n",
    "print('Girls:', girls)"
   ]
  },
  {
   "cell_type": "markdown",
   "metadata": {},
   "source": [
    "<div style=\"clear:both;\"></div>\n",
    "<hr style=\"float:left;width:100%;border-top: 3px double #8c8b8b;\">\n",
    "<div style=\"clear:both;\"></div>"
   ]
  },
  {
   "cell_type": "markdown",
   "metadata": {},
   "source": [
    "## Задание № 2.5\n",
    "\n",
    "\n",
    "В школе прошла контрольная работа. Напишите программу, которая высчиcляет \n",
    "- количество единиц, двоек и т.д. в школе,\n",
    "- словарь с элементами 'название класса': среднее арифметическое оценок.\n",
    "\n",
    "**Дано**: словарь, содержащий пары key:value следующего вида - 'название класса' : {'1': количество единиц, '2': количество двоек,'3': количество троек,'4': количество четверок,'5': количество пятёрок}\n",
    "\n",
    "Пример:\n",
    "```python\n",
    "d = {'1a':{'1':5, '2':6, '3': 7, '4':8, '5': 2},\n",
    "     '1b':{'1':4, '2':7, '3': 9, '4':7, '5': 4},\n",
    "     '1c':{'1':2, '2':4, '3': 8, '4':8, '5': 7},\n",
    "     '1d':{'1':3, '2':4, '3': 10, '4':7, '5': 3}}\n",
    "```"
   ]
  },
  {
   "cell_type": "code",
   "execution_count": null,
   "metadata": {},
   "outputs": [],
   "source": [
    "dict25 = {'1a':{'2':6, '3': 7, '4':8, '5': 2},\n",
    "     '1b':{'1':4, '3': 9, '4':7, '5': 4},\n",
    "     '1c':{'1':2, '2':4, '3': 8, '4':8, '5': 7},\n",
    "     '1d':{'1':3, '2':4, '3': 10, '4':7}}"
   ]
  },
  {
   "cell_type": "code",
   "execution_count": null,
   "metadata": {
    "scrolled": false
   },
   "outputs": [],
   "source": [
    "sum_marks = dict()\n",
    "average = dict()\n",
    "for key, value in dict25.items():\n",
    "    sum_marks_class = 0\n",
    "    n_marks_class = 0\n",
    "    for mark, summ in value.items():\n",
    "        sum_marks[mark] = int(sum_marks.get(mark, 0)) + int(summ)\n",
    "        sum_marks_class+=int(mark)*summ\n",
    "        n_marks_class+=summ\n",
    "    average[key] = sum_marks_class/n_marks_class\n",
    "print('1. Количество оценок:\\n',sum_marks)\n",
    "print('2. Среднее значение по классам:\\n', average)"
   ]
  },
  {
   "cell_type": "markdown",
   "metadata": {},
   "source": [
    "<div style=\"clear:both;\"></div>\n",
    "<hr style=\"float:left;width:100%;border-top: 3px double #8c8b8b;\">\n",
    "<div style=\"clear:both;\"></div>"
   ]
  },
  {
   "cell_type": "markdown",
   "metadata": {},
   "source": [
    "## Задание № 3\n",
    "\n",
    "Напишите программу, генерирующую список случайных значений от -100 до 101. Количество элементов в списке - случайное число от 40 до 60.\n",
    "\n",
    "Посчитайте количество чисел, дающих остаток 3 при делении на 4, и количество чисел, в двоичном представлении которых нечетное число единиц.\n",
    "\n",
    "Сохраните код программы в файл tough_one.py прямо из блокнота"
   ]
  },
  {
   "cell_type": "code",
   "execution_count": null,
   "metadata": {},
   "outputs": [],
   "source": [
    "%%writefile tough_one.py \n",
    "from random import randint\n",
    "n3 = randint(40, 61)\n",
    "list3 = (randint(-100,101) for i in range(n3))\n",
    "\n",
    "count31 = 0\n",
    "count32 = 0\n",
    "for a in list3:\n",
    "    if a%4 == 3:\n",
    "        count31+=1\n",
    "    if bin(a).count('1')%2==1:\n",
    "        count32+=1\n",
    "print('1. Количество чисел, дающих при делении на 4 остаток 3: ', count31)\n",
    "print('2. Количество чисел, в двоичном представлении которых нечетное число единиц: ', count32)"
   ]
  },
  {
   "cell_type": "markdown",
   "metadata": {},
   "source": [
    "<div style=\"clear:both;\"></div>\n",
    "<hr style=\"float:left;width:100%;border-top: 3px double #8c8b8b;\">\n",
    "<div style=\"clear:both;\"></div>"
   ]
  },
  {
   "cell_type": "markdown",
   "metadata": {},
   "source": [
    "## Задание № 4\n",
    "\n",
    "Напишите программу, генерирующую список случайных значений от 0 до 20. Количество элементов в списке - случайное число от 10 до 20.\n",
    "\n",
    "Для каждого числа в списке выведите YES (в отдельной строке), если это число ранее встречалось в последовательности или NO, если не встречалось. "
   ]
  },
  {
   "cell_type": "code",
   "execution_count": null,
   "metadata": {},
   "outputs": [],
   "source": [
    "from random import randint\n",
    "n4 = randint(10, 21)\n",
    "list4= [randint(0, 20) for i in range(n4)]\n",
    "print(list4)"
   ]
  },
  {
   "cell_type": "code",
   "execution_count": null,
   "metadata": {},
   "outputs": [],
   "source": [
    "set4 = set()\n",
    "for a in list4:\n",
    "    if a in set4:\n",
    "        print('YES')\n",
    "    else:\n",
    "        set4.add(a)\n",
    "        print('NO')\n"
   ]
  },
  {
   "cell_type": "markdown",
   "metadata": {},
   "source": [
    "<div style=\"clear:both;\"></div>\n",
    "<hr style=\"float:left;width:100%;border-top: 3px double #8c8b8b;\">\n",
    "<div style=\"clear:both;\"></div>"
   ]
  }
 ],
 "metadata": {
  "kernelspec": {
   "display_name": "Python 3",
   "language": "python",
   "name": "python3"
  },
  "language_info": {
   "codemirror_mode": {
    "name": "ipython",
    "version": 3
   },
   "file_extension": ".py",
   "mimetype": "text/x-python",
   "name": "python",
   "nbconvert_exporter": "python",
   "pygments_lexer": "ipython3",
   "version": "3.6.5"
  }
 },
 "nbformat": 4,
 "nbformat_minor": 2
}
