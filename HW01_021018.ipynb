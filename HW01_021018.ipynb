{
 "cells": [
  {
   "cell_type": "code",
   "execution_count": 153,
   "metadata": {},
   "outputs": [],
   "source": [
    "# -*- coding: utf-8 -*-"
   ]
  },
  {
   "cell_type": "markdown",
   "metadata": {},
   "source": [
    "# **HW-01**"
   ]
  },
  {
   "cell_type": "markdown",
   "metadata": {},
   "source": [
    "## Задание № 1\n",
    "\n",
    "Выведите словарь, содержащий элементы вида \n",
    "```\n",
    "x: \"x \\* x + 1 = y\",\n",
    "```\n",
    "где x - число от 40 до 89, дающее остаток 4 при делении на 5; y = x \\* x + 1"
   ]
  },
  {
   "cell_type": "code",
   "execution_count": null,
   "metadata": {
    "scrolled": true
   },
   "outputs": [],
   "source": [
    "str1 = r\"\\*\"\n",
    "dict1 = {x : str(x) + str1 + str(x) + ' + 1 = ' + str(x*x+1) for x in range(40,89)}\n",
    "print ( \"{\" + ',\\n '.join(\"'{key}': '{value}'\".format(key=key, value=value) for key, value in dict1.items()) + \"}\")"
   ]
  },
  {
   "cell_type": "markdown",
   "metadata": {},
   "source": [
    "<div style=\"clear:both;\"></div>\n",
    "<hr style=\"float:left;width:80%;border-top: 3px double #8c8b8b;\">\n",
    "<div style=\"clear:both;\"></div>"
   ]
  },
  {
   "cell_type": "markdown",
   "metadata": {},
   "source": [
    "## Задание № 2.0\n",
    "\n",
    "Напишите программу, которая высчиcляет количество мальчиков и девочек в школе.\n",
    "\n",
    "**Дано**: словарь, содержащий пары 'название класса' : (количество девочек, количество мальчиков)\n",
    "\n",
    "Пример:\n",
    "```python\n",
    "d = {'1a':(15,15),'1b':(10,18),'1c':(12,20),'1d':(0,32)}\n",
    "```\n"
   ]
  },
  {
   "cell_type": "code",
   "execution_count": 30,
   "metadata": {},
   "outputs": [],
   "source": [
    "dict20 = {'1a':(15,15),'1b':(10,18),'1c':(12,20),'1d':(0,32)}"
   ]
  },
  {
   "cell_type": "code",
   "execution_count": 59,
   "metadata": {
    "scrolled": true
   },
   "outputs": [
    {
     "name": "stdout",
     "output_type": "stream",
     "text": [
      "Boys:  85\n",
      "Girls: 37\n"
     ]
    }
   ],
   "source": [
    "boys = 0\n",
    "girls = 0\n",
    "for key in dict20.keys():\n",
    "    boys+=dict20.get(key)[1]\n",
    "    girls+=dict20.get(key)[0]\n",
    "print('Boys: ', boys)\n",
    "print('Girls:', girls)"
   ]
  },
  {
   "cell_type": "markdown",
   "metadata": {},
   "source": [
    "<div style=\"clear:both;\"></div>\n",
    "<hr style=\"float:left;width:100%;border-top: 3px double #8c8b8b;\">\n",
    "<div style=\"clear:both;\"></div>"
   ]
  },
  {
   "cell_type": "markdown",
   "metadata": {},
   "source": [
    "## Задание № 2.5\n",
    "\n",
    "\n",
    "В школе прошла контрольная работа. Напишите программу, которая высчиcляет \n",
    "- количество единиц, двоек и т.д. в школе,\n",
    "- словарь с элементами 'название класса': среднее арифметическое оценок.\n",
    "\n",
    "**Дано**: словарь, содержащий пары key:value следующего вида - 'название класса' : {'1': количество единиц, '2': количество двоек,'3': количество троек,'4': количество четверок,'5': количество пятёрок}\n",
    "\n",
    "Пример:\n",
    "```python\n",
    "d = {'1a':{'1':5, '2':6, '3': 7, '4':8, '5': 2},\n",
    "     '1b':{'1':4, '2':7, '3': 9, '4':7, '5': 4},\n",
    "     '1c':{'1':2, '2':4, '3': 8, '4':8, '5': 7},\n",
    "     '1d':{'1':3, '2':4, '3': 10, '4':7, '5': 3}}\n",
    "```"
   ]
  },
  {
   "cell_type": "code",
   "execution_count": 155,
   "metadata": {},
   "outputs": [],
   "source": [
    "dict25 = {'1a':{'1':5, '2':6, '3': 7, '4':8, '5': 2},\n",
    "     '1b':{'1':4, '2':7, '3': 9, '4':7, '5': 4},\n",
    "     '1c':{'1':2, '2':4, '3': 8, '4':8, '5': 7},\n",
    "     '1d':{'1':3, '2':4, '3': 10, '4':7, '5': 3}}"
   ]
  },
  {
   "cell_type": "code",
   "execution_count": 156,
   "metadata": {
    "scrolled": false
   },
   "outputs": [
    {
     "name": "stdout",
     "output_type": "stream",
     "text": [
      "1. Количество оценок:\n",
      "'1': '14'\n",
      "'2': '21'\n",
      "'3': '34'\n",
      "'4': '30'\n",
      "'5': '16'\n",
      "2. Среднее значение по классам:\n",
      " {'1a': 2.857142857142857, '1b': 3.0, '1c': 3.4827586206896552, '1d': 3.111111111111111}\n"
     ]
    }
   ],
   "source": [
    "n = [0, 0, 0, 0, 0]\n",
    "average = dict()\n",
    "marks = ('1', '2', '3', '4', '5')\n",
    "for key_class in dict25.keys():\n",
    "    sum_marks = 0\n",
    "    n_marks = 0\n",
    "    for key_mark in marks:\n",
    "        n[int(key_mark)-1]+=dict25.get(key_class).get(key_mark)\n",
    "        n_marks+=dict25.get(key_class).get(key_mark)\n",
    "        sum_marks+=dict25.get(key_class).get(key_mark)*int(key_mark)\n",
    "    average[key_class] = sum_marks/n_marks\n",
    "print('1. Количество оценок:\\n' + '\\n'.join(\"'{key}': '{value}'\".format(key=key, value=n[int(key)-1]) for key in marks))\n",
    "print('2. Среднее значение по классам:\\n', average)"
   ]
  },
  {
   "cell_type": "markdown",
   "metadata": {},
   "source": [
    "<div style=\"clear:both;\"></div>\n",
    "<hr style=\"float:left;width:100%;border-top: 3px double #8c8b8b;\">\n",
    "<div style=\"clear:both;\"></div>"
   ]
  },
  {
   "cell_type": "markdown",
   "metadata": {},
   "source": [
    "## Задание № 3\n",
    "\n",
    "Напишите программу, генерирующую список случайных значений от -100 до 101. Количество элементов в списке - случайное число от 40 до 60.\n",
    "\n",
    "Посчитайте количество чисел, дающих остаток 3 при делении на 4, и количество чисел, в двоичном представлении которых нечетное число единиц.\n",
    "\n",
    "Сохраните код программы в файл tough_one.py прямо из блокнота"
   ]
  },
  {
   "cell_type": "code",
   "execution_count": 194,
   "metadata": {},
   "outputs": [
    {
     "name": "stdout",
     "output_type": "stream",
     "text": [
      "Overwriting tough_one.py\n"
     ]
    }
   ],
   "source": [
    "%%writefile tough_one.py \n",
    "from random import randint\n",
    "n3 = randint(40, 61)\n",
    "\n",
    "list3 = list()\n",
    "for i in range(n3):\n",
    "    list3.append(randint(-100, 101))\n",
    "\n",
    "count31 = 0\n",
    "count32 = 0\n",
    "for a in list3:\n",
    "    if a%4 == 3:\n",
    "        count31+=1\n",
    "    if bin(a).count('1')%2==1:\n",
    "        count32+=1\n",
    "print('1. Количество чисел, дающих при делении на 4 остаток 3: ', count31)\n",
    "print('2. Количество чисел, в двоичном представлении которых нечетное число единиц: ', count32)"
   ]
  },
  {
   "cell_type": "markdown",
   "metadata": {},
   "source": [
    "<div style=\"clear:both;\"></div>\n",
    "<hr style=\"float:left;width:100%;border-top: 3px double #8c8b8b;\">\n",
    "<div style=\"clear:both;\"></div>"
   ]
  },
  {
   "cell_type": "markdown",
   "metadata": {},
   "source": [
    "## Задание № 4\n",
    "\n",
    "Напишите программу, генерирующую список случайных значений от 0 до 20. Количество элементов в списке - случайное число от 10 до 20.\n",
    "\n",
    "Для каждого числа в списке выведите YES (в отдельной строке), если это число ранее встречалось в последовательности или NO, если не встречалось. "
   ]
  },
  {
   "cell_type": "code",
   "execution_count": 13,
   "metadata": {},
   "outputs": [],
   "source": [
    "from random import randint\n",
    "n4 = randint(10, 21)\n",
    "\n",
    "list4 = list()\n",
    "for i in range(n4):\n",
    "    list4.append(randint(0, 20))"
   ]
  },
  {
   "cell_type": "code",
   "execution_count": 14,
   "metadata": {},
   "outputs": [
    {
     "name": "stdout",
     "output_type": "stream",
     "text": [
      "[11, 19, 13, 20, 19, 0, 19, 3, 11, 15, 12, 18, 6, 8, 20]\n"
     ]
    }
   ],
   "source": [
    "print(list4)"
   ]
  },
  {
   "cell_type": "code",
   "execution_count": 15,
   "metadata": {},
   "outputs": [
    {
     "name": "stdout",
     "output_type": "stream",
     "text": [
      "NO\n",
      "NO\n",
      "NO\n",
      "NO\n",
      "YES\n",
      "NO\n",
      "YES\n",
      "NO\n",
      "YES\n",
      "NO\n",
      "NO\n",
      "NO\n",
      "NO\n",
      "NO\n",
      "YES\n"
     ]
    }
   ],
   "source": [
    "set4 = set()\n",
    "for a in list4:\n",
    "    if a in set4:\n",
    "        print('YES')\n",
    "    else:\n",
    "        set4.add(a)\n",
    "        print('NO')\n"
   ]
  },
  {
   "cell_type": "markdown",
   "metadata": {},
   "source": [
    "<div style=\"clear:both;\"></div>\n",
    "<hr style=\"float:left;width:100%;border-top: 3px double #8c8b8b;\">\n",
    "<div style=\"clear:both;\"></div>"
   ]
  }
 ],
 "metadata": {
  "kernelspec": {
   "display_name": "Python 3",
   "language": "python",
   "name": "python3"
  },
  "language_info": {
   "codemirror_mode": {
    "name": "ipython",
    "version": 3
   },
   "file_extension": ".py",
   "mimetype": "text/x-python",
   "name": "python",
   "nbconvert_exporter": "python",
   "pygments_lexer": "ipython3",
   "version": "3.6.5"
  }
 },
 "nbformat": 4,
 "nbformat_minor": 2
}
